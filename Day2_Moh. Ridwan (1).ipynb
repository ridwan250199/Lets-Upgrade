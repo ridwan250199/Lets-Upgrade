{
 "cells": [
  {
   "cell_type": "markdown",
   "metadata": {},
   "source": [
    "# Questions 1"
   ]
  },
  {
   "cell_type": "markdown",
   "metadata": {},
   "source": [
    "Create an empty list. Accept 10 numbers from the user and append to it the list if it is an even number"
   ]
  },
  {
   "cell_type": "markdown",
   "metadata": {},
   "source": [
    "### Answer"
   ]
  },
  {
   "cell_type": "code",
   "execution_count": 1,
   "metadata": {},
   "outputs": [
    {
     "name": "stdout",
     "output_type": "stream",
     "text": [
      "10\n",
      "Enter number:1\n",
      "Enter number:2\n",
      "Enter number:3\n",
      "Enter number:4\n",
      "Enter number:5\n",
      "Enter number:6\n",
      "Enter number:7\n",
      "Enter number:8\n",
      "Enter number:9\n",
      "Enter number:10\n",
      "even number: [2, 4, 6, 8, 10]\n"
     ]
    }
   ],
   "source": [
    "a = []\n",
    "number =int(input())\n",
    "for i in range(number):\n",
    "    b = int(input(\"Enter number:\"))\n",
    "    if b%2 == 0:\n",
    "        a.append(b)\n",
    "print(\"even number:\", a)"
   ]
  },
  {
   "cell_type": "markdown",
   "metadata": {},
   "source": [
    "# Questions 2"
   ]
  },
  {
   "cell_type": "markdown",
   "metadata": {},
   "source": [
    "Create a notebook on LIST COMPREHENSION. This exercise is to put you in a Self learning mode"
   ]
  },
  {
   "cell_type": "markdown",
   "metadata": {},
   "source": [
    "### Answer"
   ]
  },
  {
   "cell_type": "markdown",
   "metadata": {},
   "source": [
    "A list comprehension is a syntactic construct available in some programming languages for creating a list based on existing lists"
   ]
  },
  {
   "cell_type": "code",
   "execution_count": 2,
   "metadata": {},
   "outputs": [
    {
     "data": {
      "text/plain": [
       "[9, 90]"
      ]
     },
     "execution_count": 2,
     "metadata": {},
     "output_type": "execute_result"
    }
   ],
   "source": [
    "# Example 1\n",
    "number = [1,2,5,7,9,10,37,90]\n",
    "result = []\n",
    "for i in number:\n",
    "    if i%3 == 0:\n",
    "        result.append(i)\n",
    "result"
   ]
  },
  {
   "cell_type": "code",
   "execution_count": 3,
   "metadata": {},
   "outputs": [
    {
     "data": {
      "text/plain": [
       "[2, 8, 14, 22]"
      ]
     },
     "execution_count": 3,
     "metadata": {},
     "output_type": "execute_result"
    }
   ],
   "source": [
    "# Example 2\n",
    "number1 = [2,8,14,17,19,22]\n",
    "odd = [i for i in number1 if i%2==0]\n",
    "odd"
   ]
  },
  {
   "cell_type": "markdown",
   "metadata": {},
   "source": [
    "# Questions 3"
   ]
  },
  {
   "cell_type": "markdown",
   "metadata": {},
   "source": [
    "You have seen in the videos how powerful dictionary data structure is. <br>\n",
    "In this assignment, given a number n, you have to write a program that generates a dictionary d which <br>\n",
    "contains (i, i*i), where i is from 1 to n (both included). <br>\n",
    "Then you have to just print this dictionary d. <br>\n",
    "Example: <br>\n",
    "Input: 4 <br>\n",
    "will give output as <br>\n",
    "{1: 1, 2: 4, 3: 9, 4: 16} <br>\n",
    "Input Format: <br>\n",
    "Take the number n in a single line. <br>\n",
    "Output Format: <br>\n",
    "Print the dictionary d in a single line. <br>\n",
    "Example: <br>\n",
    "Input: <br>\n",
    "8 <br>\n",
    "Output: <br>\n",
    "{1: 1, 2: 4, 3: 9, 4: 16, 5: 25, 6: 36, 7: 49, 8: 64}\n"
   ]
  },
  {
   "cell_type": "markdown",
   "metadata": {},
   "source": [
    "### Answer"
   ]
  },
  {
   "cell_type": "code",
   "execution_count": 4,
   "metadata": {},
   "outputs": [
    {
     "name": "stdout",
     "output_type": "stream",
     "text": [
      "8\n"
     ]
    },
    {
     "data": {
      "text/plain": [
       "{1: 1, 2: 4, 3: 9, 4: 16, 5: 25, 6: 36, 7: 49, 8: 64}"
      ]
     },
     "execution_count": 4,
     "metadata": {},
     "output_type": "execute_result"
    }
   ],
   "source": [
    "number = int(input())\n",
    "d = {}\n",
    "for i in range(1, number+1):\n",
    "    c = {i:i*i}\n",
    "    d.update(c)\n",
    "d"
   ]
  },
  {
   "cell_type": "markdown",
   "metadata": {},
   "source": [
    "# Questions 4"
   ]
  },
  {
   "cell_type": "markdown",
   "metadata": {},
   "source": [
    "There is a robot which wants to go the charging point to charge itself.<br>\n",
    "The robot moves in a 2-D plane from the original point (0,0). The robot can<br>\n",
    "move toward UP, DOWN, LEFT and RIGHT with given steps.<br>\n",
    "The trace of robot movement is shown as the following:<br>\n",
    "UP 5<br>\n",
    "DOWN 3<br>\n",
    "LEFT 3<br>\n",
    "RIGHT 2<br>\n",
    "Then, the output of the program should be:<br>\n",
    "2<br>\n",
    "The numbers after the direction are steps.<br>\n",
    "Write a program to compute the distance between the current position after<br>\n",
    "a sequence of movement and original point. If the distance is a float, then<br>\n",
    "just print the nearest integer (use round() function for that and then convert<br>\n",
    "it into an integer).<br>\n",
    "Input Format:<br>\n",
    "The first line of the input contains a number n which implies the number of<br>\n",
    "directions to be given.<br>\n",
    "The next n lines contain the direction and the step separated by a space.<br>\n",
    "Output Format:<br>\n",
    "Print the distance from the original position to the current position.<br>\n",
    "Example:<br>\n",
    "Input:<br>\n",
    "4<br>\n",
    "UP 5<br>\n",
    "DOWN 3<br>\n",
    "LEFT 3<br>\n",
    "RIGHT 2<br>\n",
    "Output:<br>\n",
    "2"
   ]
  },
  {
   "cell_type": "code",
   "execution_count": 8,
   "metadata": {},
   "outputs": [
    {
     "name": "stdout",
     "output_type": "stream",
     "text": [
      "6\n",
      "UP 5\n",
      "DOWN 3\n",
      "LEFT 3\n",
      "RIGHT 2\n"
     ]
    },
    {
     "data": {
      "text/plain": [
       "2"
      ]
     },
     "execution_count": 8,
     "metadata": {},
     "output_type": "execute_result"
    }
   ],
   "source": [
    "number = int(input())\n",
    "for i in range(number):\n",
    "    if i==0:\n",
    "        a = int(input(\"UP \"))\n",
    "    if i==1:\n",
    "        b = int(input(\"DOWN \"))\n",
    "    if i==2:\n",
    "        c = int(input(\"LEFT \"))\n",
    "    if i==3:\n",
    "        d = int(input(\"RIGHT \"))\n",
    "\n",
    "import math\n",
    "e = (a-b)**2 + (c-d)**2\n",
    "f = round(math.sqrt(e))\n",
    "f\n",
    "\n"
   ]
  },
  {
   "cell_type": "code",
   "execution_count": null,
   "metadata": {},
   "outputs": [],
   "source": []
  }
 ],
 "metadata": {
  "kernelspec": {
   "display_name": "Python 3",
   "language": "python",
   "name": "python3"
  },
  "language_info": {
   "codemirror_mode": {
    "name": "ipython",
    "version": 3
   },
   "file_extension": ".py",
   "mimetype": "text/x-python",
   "name": "python",
   "nbconvert_exporter": "python",
   "pygments_lexer": "ipython3",
   "version": "3.7.3"
  }
 },
 "nbformat": 4,
 "nbformat_minor": 4
}
