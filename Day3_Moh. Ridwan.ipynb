{
 "cells": [
  {
   "cell_type": "markdown",
   "metadata": {},
   "source": [
    "# Questions 1"
   ]
  },
  {
   "cell_type": "markdown",
   "metadata": {},
   "source": [
    "Create a numpy array starting from 2 till 50 with a stepsize of 3."
   ]
  },
  {
   "cell_type": "markdown",
   "metadata": {},
   "source": [
    "#### Answer"
   ]
  },
  {
   "cell_type": "code",
   "execution_count": 1,
   "metadata": {},
   "outputs": [
    {
     "data": {
      "text/plain": [
       "array([ 2,  3,  4,  5,  6,  7,  8,  9, 10, 11, 12, 13, 14, 15, 16, 17, 18,\n",
       "       19, 20, 21, 22, 23, 24, 25, 26, 27, 28, 29, 30, 31, 32, 33, 34, 35,\n",
       "       36, 37, 38, 39, 40, 41, 42, 43, 44, 45, 46, 47, 48, 49, 50])"
      ]
     },
     "execution_count": 1,
     "metadata": {},
     "output_type": "execute_result"
    }
   ],
   "source": [
    "import numpy as np\n",
    "arr = np.arange(51)[2:51]\n",
    "arr"
   ]
  },
  {
   "cell_type": "markdown",
   "metadata": {},
   "source": [
    "# Questions 2"
   ]
  },
  {
   "cell_type": "markdown",
   "metadata": {},
   "source": [
    "Accept two lists of 5 elements each from the user. <br>\n",
    "Convert them to numpy arrays. Concatenate these arrays and print it. Also sort these arrays and print it"
   ]
  },
  {
   "cell_type": "markdown",
   "metadata": {},
   "source": [
    "#### Answer"
   ]
  },
  {
   "cell_type": "code",
   "execution_count": 2,
   "metadata": {},
   "outputs": [
    {
     "name": "stdout",
     "output_type": "stream",
     "text": [
      "[ 1  8  3  5  4  7  2  8 10  9]\n",
      "[1, 2, 3, 4, 5, 7, 8, 8, 9, 10]\n"
     ]
    }
   ],
   "source": [
    "list1 = [1, 8, 3, 5, 4]\n",
    "list2 = [7, 2, 8, 10, 9]\n",
    "array_list1 = np.array(list1)\n",
    "array_list2 = np.array(list2)\n",
    "concatenate_arrays = np.concatenate((array_list1, array_list2))\n",
    "print(concatenate_arrays)\n",
    "concatenate_arrays_sorted = sorted(concatenate_arrays)\n",
    "print(concatenate_arrays_sorted)"
   ]
  },
  {
   "cell_type": "markdown",
   "metadata": {},
   "source": [
    "# Questions 3"
   ]
  },
  {
   "cell_type": "markdown",
   "metadata": {},
   "source": [
    "Write a code snippet to find the dimensions of a ndarray and its size."
   ]
  },
  {
   "cell_type": "markdown",
   "metadata": {},
   "source": [
    "#### Answer"
   ]
  },
  {
   "cell_type": "code",
   "execution_count": 3,
   "metadata": {},
   "outputs": [
    {
     "name": "stdout",
     "output_type": "stream",
     "text": [
      "array dimensions is : 1\n",
      "array size is : 5\n"
     ]
    }
   ],
   "source": [
    "array_list1 = np.array([1, 8, 3, 5, 4])\n",
    "print(\"array dimensions is :\", array_list1.ndim)\n",
    "print(\"array size is :\", array_list1.size)"
   ]
  },
  {
   "cell_type": "markdown",
   "metadata": {},
   "source": [
    "# Questions 4"
   ]
  },
  {
   "cell_type": "markdown",
   "metadata": {},
   "source": [
    "How to convert a 1D array into a 2D array? Demonstrate with the help of a code snippet <br>\n",
    "Hint: np.newaxis, np.expand_dims"
   ]
  },
  {
   "cell_type": "markdown",
   "metadata": {},
   "source": [
    "#### Answer"
   ]
  },
  {
   "cell_type": "code",
   "execution_count": 4,
   "metadata": {},
   "outputs": [
    {
     "name": "stdout",
     "output_type": "stream",
     "text": [
      "array_1= [0 1 2 3 4 5 6 7 8 9]\n",
      "array_1 dimensions is  1\n",
      "array_2= [[0]\n",
      " [1]\n",
      " [2]\n",
      " [3]\n",
      " [4]\n",
      " [5]\n",
      " [6]\n",
      " [7]\n",
      " [8]\n",
      " [9]]\n",
      "array_2 dimensions is  2\n",
      "array_3= [0 1 2 3 4 5 6 7]\n",
      "array_3 dimensions is  1\n",
      "array_4= [[0 1 2 3 4 5 6 7]]\n",
      "array_4 dimensions is  2\n"
     ]
    }
   ],
   "source": [
    "# np.newaxis\n",
    "array_1 = np.arange(10)\n",
    "array_2 = array_1[:, np.newaxis]\n",
    "print(\"array_1=\", array_1)\n",
    "print(\"array_1 dimensions is \", array_1.ndim)\n",
    "print(\"array_2=\", array_2)\n",
    "print(\"array_2 dimensions is \", array_2.ndim)\n",
    "\n",
    "# np.expand_dims\n",
    "array_3 = np.arange(8)\n",
    "array_4 = np.expand_dims(array_3, 0)\n",
    "print(\"array_3=\", array_3)\n",
    "print(\"array_3 dimensions is \", array_3.ndim)\n",
    "print(\"array_4=\", array_4)\n",
    "print(\"array_4 dimensions is \", array_4.ndim)"
   ]
  },
  {
   "cell_type": "markdown",
   "metadata": {},
   "source": [
    "# Questions 5"
   ]
  },
  {
   "cell_type": "markdown",
   "metadata": {},
   "source": [
    "Consider two square numpy arrays. Stack them vertically and horizontally. <br>\n",
    "Hint: Use vstack(), hstack()"
   ]
  },
  {
   "cell_type": "markdown",
   "metadata": {},
   "source": [
    "#### Answer"
   ]
  },
  {
   "cell_type": "code",
   "execution_count": 5,
   "metadata": {},
   "outputs": [
    {
     "name": "stdout",
     "output_type": "stream",
     "text": [
      "a = [[1 2]\n",
      " [3 4]]\n",
      "shape a: (2, 2)\n",
      "b = [[6 9]\n",
      " [7 8]]\n",
      "shape b: (2, 2)\n",
      "Vertical Append: [[1 2]\n",
      " [3 4]\n",
      " [6 9]\n",
      " [7 8]]\n",
      "Horizontal Append: [[1 2 6 9]\n",
      " [3 4 7 8]]\n"
     ]
    }
   ],
   "source": [
    "a = np.array([[1,2],[3,4]])\n",
    "print(\"a =\", a)\n",
    "print(\"shape a:\", a.shape)\n",
    "b = np.array([[6,9],[7,8]])\n",
    "print(\"b =\", b)\n",
    "print(\"shape b:\", b.shape)\n",
    "\n",
    "print('Vertical Append:', np.vstack((a, b)))\n",
    "print('Horizontal Append:', np.hstack((a, b)))"
   ]
  },
  {
   "cell_type": "markdown",
   "metadata": {},
   "source": [
    "# Questions 6"
   ]
  },
  {
   "cell_type": "markdown",
   "metadata": {},
   "source": [
    "How to get unique items and counts of unique items?"
   ]
  },
  {
   "cell_type": "markdown",
   "metadata": {},
   "source": [
    "#### Answer"
   ]
  },
  {
   "cell_type": "code",
   "execution_count": 6,
   "metadata": {},
   "outputs": [
    {
     "name": "stdout",
     "output_type": "stream",
     "text": [
      "[1 6 2 2 6 2 7 2 6 9 1 4 2 4 2 4 7 2 4 1 4 2]\n",
      "There are 6 unique items\n",
      "Unique Items :  [1 2 4 6 7 9]\n",
      "Occurrence Count :  [3 8 5 3 2 1]\n"
     ]
    }
   ],
   "source": [
    "c = np.array([1,6,2,2,6,2,7,2,6,9,1,4,2,4,2,4,7,2,4,1,4,2])\n",
    "print(c)\n",
    "uniqueItems, occurCount = np.unique(c, return_counts=True)\n",
    "print(\"There are\", len(uniqueItems), \"unique items\")\n",
    "print(\"Unique Items : \" , uniqueItems)\n",
    "print(\"Occurrence Count : \", occurCount)"
   ]
  },
  {
   "cell_type": "code",
   "execution_count": 8,
   "metadata": {},
   "outputs": [
    {
     "name": "stdout",
     "output_type": "stream",
     "text": [
      "Unique Items along with occurrence Count\n",
      "1  Occurs :  3  times\n",
      "2  Occurs :  8  times\n",
      "4  Occurs :  5  times\n",
      "6  Occurs :  3  times\n",
      "7  Occurs :  2  times\n",
      "9  Occurs :  1  times\n"
     ]
    }
   ],
   "source": [
    "# Zip both the arrays\n",
    "listOfUniqueItems = zip(uniqueItems, occurCount)\n",
    "print('Unique Items along with occurrence Count')\n",
    "\n",
    "# Iterate over the zip object\n",
    "for elem in listOfUniqueItems:\n",
    "    print(elem[0] , ' Occurs : ' , elem[1], ' times')"
   ]
  },
  {
   "cell_type": "code",
   "execution_count": null,
   "metadata": {},
   "outputs": [],
   "source": []
  }
 ],
 "metadata": {
  "kernelspec": {
   "display_name": "Python 3",
   "language": "python",
   "name": "python3"
  },
  "language_info": {
   "codemirror_mode": {
    "name": "ipython",
    "version": 3
   },
   "file_extension": ".py",
   "mimetype": "text/x-python",
   "name": "python",
   "nbconvert_exporter": "python",
   "pygments_lexer": "ipython3",
   "version": "3.7.3"
  }
 },
 "nbformat": 4,
 "nbformat_minor": 4
}
